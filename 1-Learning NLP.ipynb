{
 "cells": [
  {
   "cell_type": "markdown",
   "metadata": {},
   "source": [
    "# NLP learning step by step with me for preparing interview"
   ]
  },
  {
   "cell_type": "markdown",
   "metadata": {},
   "source": [
    "- Stemming and Lemmatization\n",
    "- N-Gram, Bi-Gram etc\n",
    "- Bag of Words (BoW)\n",
    "- Term Frequency Calculation TF\n",
    "- Inverse Document Frequency IDF\n",
    "- TFIDF Term Frequency - Inverse Document Frequency\n",
    "- Word2Vec\n",
    "- Text Classification explor with Spam classification:\n",
    "- Creating the Bag of Word model-Naive baes classifier-evaluation\n",
    "- Creating the TF-IDF word model-Random Forest-evaluation\n",
    "- Creating Word2vec model-SVM-Evaluation"
   ]
  },
  {
   "cell_type": "markdown",
   "metadata": {},
   "source": [
    "### Stemming:\n",
    "- **Definition**: Stemming is a crude heuristic process that chops off the ends of words in an attempt to reduce them to their base or root form. The goal is to remove derivational affixes to get the word stem.\n",
    "- **Example**:\n",
    "  - The word `\"running\"` might be stemmed to `\"run\"`.\n",
    "  - The word `\"happiness\"` might be stemmed to `\"happi\"`.\n",
    "- **Techniques**: Algorithms like the Porter Stemmer, Snowball Stemmer, or Lancaster Stemmer are commonly used.\n",
    "- **Output**: Stemming can produce non-real words since it does not consider the meaning of the word, just the structure. For example, `\"studies\"` might be stemmed to `\"studi\"`, which is not a real word.\n",
    "- **Use Case**: Stemming is faster and less complex, often used in applications where precision is less critical, such as search engines.\n",
    "\n",
    "### Lemmatization:\n",
    "- **Definition**: Lemmatization is a more sophisticated process that reduces words to their base or dictionary form, called a lemma. It considers the context and the word’s part of speech (POS) to determine the correct form.\n",
    "- **Example**:\n",
    "  - The word `\"running\"` is lemmatized to `\"run\"`.\n",
    "  - The word `\"better\"` is lemmatized to `\"good\"`.\n",
    "- **Techniques**: Lemmatization often involves using a dictionary or a look-up table, and may also require the POS tagging of words.\n",
    "- **Output**: Lemmatization produces real, dictionary-validated words, maintaining more accurate and meaningful results compared to stemming.\n",
    "- **Use Case**: Lemmatization is more precise and is used in applications where understanding the meaning of words is important, such as text analysis or natural language processing tasks.\n",
    "\n",
    "### Summary:\n",
    "- **Stemming** is a faster, more simplistic approach that might not always produce real words, but it's useful when speed is essential, and precision is less important.\n",
    "- **Lemmatization** is a more accurate approach that results in meaningful, dictionary-based words, but it is more complex and computationally expensive.\n",
    "\n",
    "For many NLP tasks where understanding and context are important, **lemmatization** is often preferred over **stemming**.\n"
   ]
  },
  {
   "cell_type": "markdown",
   "metadata": {},
   "source": [
    "# Stemming"
   ]
  },
  {
   "cell_type": "code",
   "execution_count": 11,
   "metadata": {
    "tags": []
   },
   "outputs": [],
   "source": [
    "import nltk\n",
    "from nltk.stem import PorterStemmer  \n",
    "from nltk.corpus import stopwords\n",
    "\n",
    "# Initialize the PorterStemmer\n",
    "stemmer = PorterStemmer() \n",
    "\n",
    "# Example paragraph (you can replace this with your own text)\n",
    "paragraph = \"Natural language processing is a field of artificial intelligence that focuses on the interaction between computers and humans through natural language. It involves the ability to analyze, understand, and generate human language. Techniques such as tokenization, stemming, and removing stopwords are commonly used to preprocess text data for machine learning models.\"\n",
    "\n",
    "\n",
    "# Tokenize the paragraph into sentences\n",
    "sentences = nltk.sent_tokenize(paragraph)\n",
    "#print(sentences)\n",
    "\n",
    "# Loop through each sentence in the paragraph\n",
    "for i in range(len(sentences)):\n",
    "    # Tokenize the sentence into words\n",
    "    words = nltk.word_tokenize(sentences[i])\n",
    "\n",
    "    # Stem each word and remove stopwords\n",
    "    words = [stemmer.stem(word) for word in words if word.lower() not in set(stopwords.words('english'))]  # Added .lower() to handle case sensitivity\n",
    "    sentences[i]=\" \".join(words)\n",
    "\n",
    "#print(sentences)"
   ]
  },
  {
   "cell_type": "markdown",
   "metadata": {},
   "source": [
    "# Lemmitazation"
   ]
  },
  {
   "cell_type": "code",
   "execution_count": null,
   "metadata": {},
   "outputs": [],
   "source": [
    "import nltk\n",
    "from nltk.stem import WordNetLemmatizer  # Import the WordNetLemmatizer\n",
    "from nltk.corpus import stopwords\n",
    "\n",
    "# Initialize the WordNetLemmatizer\n",
    "lemmatizer = WordNetLemmatizer()  \n",
    "\n",
    "# Example paragraph (you can replace this with your own text)\n",
    "paragraph = \"Natural language processing is a field of artificial intelligence that focuses on the interaction between computers and humans through natural language. It involves the ability to analyze, understand, and generate human language. Techniques such as tokenization, stemming, and removing stopwords are commonly used to preprocess text data for machine learning models.\"\n",
    "\n",
    "# Tokenize the paragraph into sentences\n",
    "sentences = nltk.sent_tokenize(paragraph)\n",
    "\n",
    "# Loop through each sentence in the paragraph\n",
    "for i in range(len(sentences)):\n",
    "    # Tokenize the sentence into words\n",
    "    words = nltk.word_tokenize(sentences[i])\n",
    "\n",
    "    # Lemmatize each word and remove stopwords\n",
    "    words = [lemmatizer.lemmatize(word) for word in words if word.lower() not in set(stopwords.words('english'))]  # Added .lower() to handle case sensitivity\n",
    "    \n",
    "    # Join the lemmatized words back into a sentence\n",
    "    sentences[i] = \" \".join(words)\n",
    "\n",
    "# The sentences list now contains the lemmatized and cleaned sentences\n"
   ]
  },
  {
   "cell_type": "markdown",
   "metadata": {},
   "source": [
    "# N-gram\n",
    "- Unigram: `please | turn | your | page`\n",
    "- Bigram: `please turn | turn your | your page`\n",
    "- Trigram: `please turn your | turn your page`\n",
    "\n",
    "You can think of an N-gram as the sequence of N words, by that notion, a 2-gram (or bigram) is a two-word sequence of words like “please turn”, “turn your”, or ”your page”, and a 3-gram (or trigram) is a three-word sequence of words like “please turn your”, or “turn your page”"
   ]
  },
  {
   "cell_type": "markdown",
   "metadata": {},
   "source": [
    "# Bag of Word"
   ]
  },
  {
   "cell_type": "markdown",
   "metadata": {},
   "source": [
    "The bag-of-words model is a simplifying representation used in natural language processing and information retrieval. \n",
    "\n",
    "### Example:\n",
    "Suppose you have the following three sentences in your dataset:\n",
    "\n",
    "- \"The cat sat on the mat.\"\n",
    "- \"The dog sat on the log.\"\n",
    "- \"The cat and the dog played together.\"\n",
    "\n",
    "### Step 1: Preprocessing\n",
    "- **Lowercasing**: Convert all text to lowercase.\n",
    "- **Tokenization**: Split each sentence into words.\n",
    "- **Removing Stopwords**: Remove common words like \"the,\" \"and,\" \"on,\" etc.\n",
    "- **Stemming/Lemmatization (Optional)**: Reduce words to their root form (e.g., \"played\" to \"play\").\n",
    "\n",
    "Let's preprocess the sentences:\n",
    "\n",
    "- \"cat sat mat\"\n",
    "- \"dog sat log\"\n",
    "- \"cat dog played together\"\n",
    "\n",
    "### Step 2: Building the Vocabulary\n",
    "We create a vocabulary (a set of unique words) from all the preprocessed sentences:\n",
    "\n",
    "- **Vocabulary**: `[\"cat\", \"sat\", \"mat\", \"dog\", \"log\", \"played\", \"together\"]`\n",
    "\n",
    "### Step 3: Creating the Bag of Words\n",
    "For each sentence, we count the occurrence of each word from the vocabulary:\n",
    "\n",
    "|            | cat | sat | mat | dog | log | played | together |\n",
    "|------------|-----|-----|-----|-----|-----|--------|----------|\n",
    "| Sentence 1 |  1  |  1  |  1  |  0  |  0  |   0    |    0     |\n",
    "| Sentence 2 |  0  |  1  |  0  |  1  |  1  |   0    |    0     |\n",
    "| Sentence 3 |  1  |  0  |  0  |  1  |  0  |   1    |    1     |\n",
    "\n",
    "### Step 4: Using the Bag of Words Model\n",
    "The matrix above represents the Bag of Words model for the given sentences. Each row corresponds to a sentence, and each column corresponds to a word from the vocabulary. The values in the matrix indicate the frequency of each word in the corresponding sentence.\n"
   ]
  },
  {
   "cell_type": "code",
   "execution_count": 15,
   "metadata": {
    "tags": []
   },
   "outputs": [],
   "source": [
    "# Bag of Words Model\n",
    "\n",
    "import nltk\n",
    "import re  # Import the re module for regular expressions\n",
    "from nltk.corpus import stopwords\n",
    "from nltk.stem import PorterStemmer  \n",
    "from nltk.stem import WordNetLemmatizer \n",
    "\n",
    "# Initialize the PorterStemmer and WordNetLemmatizer\n",
    "ps = PorterStemmer()\n",
    "wordnet = WordNetLemmatizer()\n",
    "\n",
    "# Example paragraph (you can replace this with your own text)\n",
    "paragraph = \"Natural language processing is a field of artificial intelligence that focuses on the interaction between computers and humans through natural language. It involves the ability to analyze, understand, and generate human language. Techniques such as tokenization, stemming, and removing stopwords are commonly used to preprocess text data for machine learning models.\"\n",
    "\n",
    "\n",
    "# Tokenize the paragraph into sentences\n",
    "sentences = nltk.sent_tokenize(paragraph)\n",
    "\n",
    "# Initialize an empty list to store the cleaned text\n",
    "corpus = []\n",
    "\n",
    "# Cleaning the text\n",
    "for i in range(len(sentences)):\n",
    "    # Remove non-alphabetic characters and convert to lowercase\n",
    "    review = re.sub('[^a-zA-Z]', ' ', sentences[i])\n",
    "    review = review.lower()  \n",
    "    \n",
    "    # Split the sentence into words\n",
    "    review = review.split()\n",
    "    \n",
    "    # Stem each word and remove stopwords\n",
    "    review = [ps.stem(word) for word in review if word not in set(stopwords.words('english'))]\n",
    "    \n",
    "    # Join the cleaned words back into a sentence\n",
    "    review = \" \".join(review)\n",
    "    \n",
    "    # Append the cleaned sentence to the corpus\n",
    "    corpus.append(review)\n",
    "    \n",
    "# Creating the Bag of Words model\n",
    "from sklearn.feature_extraction.text import CountVectorizer \n",
    "\n",
    "cv = CountVectorizer()\n",
    "x = cv.fit_transform(corpus).toarray() \n"
   ]
  },
  {
   "cell_type": "markdown",
   "metadata": {},
   "source": [
    "# TF-IDF"
   ]
  },
  {
   "cell_type": "markdown",
   "metadata": {},
   "source": [
    "Term frequency is simply the ratio of the count of a word present in a sentence, to the length of the sentence.\n",
    "\n",
    "`TF = number of repeted words in the sentence/Number of words in sentence \n",
    "\n",
    "`idf = log( (number of sentences)/(number of sentences containing words)) \n",
    "\n",
    "\n",
    "The TF-IDF (Term Frequency-Inverse Document Frequency) model is a numerical representation used in natural language processing and information retrieval. It reflects the importance of a word in a document relative to a collection of documents (corpus).\n",
    "\n",
    "### Example:\n",
    "Suppose you have the following three sentences in your dataset:\n",
    "\n",
    "- \"The cat sat on the mat.\"\n",
    "- \"The dog sat on the log.\"\n",
    "- \"The cat and the dog played together.\"\n",
    "\n",
    "### Step 1: Preprocessing\n",
    "- **Lowercasing**: Convert all text to lowercase.\n",
    "- **Tokenization**: Split each sentence into words.\n",
    "- **Removing Stopwords**: Remove common words like \"the,\" \"and,\" \"on,\" etc.\n",
    "- **Stemming/Lemmatization (Optional)**: Reduce words to their root form (e.g., \"played\" to \"play\").\n",
    "\n",
    "Let's preprocess the sentences:\n",
    "\n",
    "- \"cat sat mat\"\n",
    "- \"dog sat log\"\n",
    "- \"cat dog played together\"\n",
    "\n",
    "### Step 2: Building the Vocabulary\n",
    "We create a vocabulary (a set of unique words) from all the preprocessed sentences:\n",
    "\n",
    "- **Vocabulary**: `[\"cat\", \"sat\", \"mat\", \"dog\", \"log\", \"played\", \"together\"]`\n",
    "\n",
    "### Step 3: Creating the TF-IDF Matrix\n",
    "For each sentence, we calculate the TF-IDF score for each word from the vocabulary:\n",
    "\n",
    "|            | cat  | sat  | mat  | dog  | log  | played | together |\n",
    "|------------|------|------|------|------|------|--------|----------|\n",
    "| Sentence 1 | 0.50 | 0.50 | 0.50 | 0.00 | 0.00 |  0.00  |   0.00   |\n",
    "| Sentence 2 | 0.00 | 0.50 | 0.00 | 0.50 | 0.50 |  0.00  |   0.00   |\n",
    "| Sentence 3 | 0.38 | 0.00 | 0.00 | 0.38 | 0.00 |  0.50  |   0.50   |\n",
    "\n",
    "### Step 4: Using the TF-IDF Model\n",
    "The matrix above represents the TF-IDF model for the given sentences. Each row corresponds to a sentence, and each column corresponds to a word from the vocabulary. The values in the matrix indicate the importance of each word in the corresponding sentence, adjusted for how often the word appears across all sentences.\n",
    "\n",
    "In this matrix:\n",
    "- A higher TF-IDF score indicates that the word is more important in that sentence compared to other words in the corpus.\n",
    "- The values are calculated based on the frequency of the word in the sentence and how common the word is across all sentences.\n"
   ]
  },
  {
   "cell_type": "code",
   "execution_count": 16,
   "metadata": {
    "tags": []
   },
   "outputs": [],
   "source": [
    "# TF-IDF Model\n",
    "\n",
    "import nltk\n",
    "import re  # Import the re module for regular expressions\n",
    "from nltk.corpus import stopwords\n",
    "from nltk.stem import PorterStemmer  \n",
    "from nltk.stem import WordNetLemmatizer \n",
    "\n",
    "# Initialize the PorterStemmer and WordNetLemmatizer\n",
    "ps = PorterStemmer()\n",
    "wordnet = WordNetLemmatizer()\n",
    "\n",
    "# Example paragraph (you can replace this with your own text)\n",
    "paragraph = \"Natural language processing is a field of artificial intelligence that focuses on the interaction between computers and humans through natural language. It involves the ability to analyze, understand, and generate human language. Techniques such as tokenization, stemming, and removing stopwords are commonly used to preprocess text data for machine learning models.\"\n",
    "\n",
    "# Tokenize the paragraph into sentences\n",
    "sentences = nltk.sent_tokenize(paragraph)\n",
    "\n",
    "# Initialize an empty list to store the cleaned text\n",
    "corpus = []\n",
    "\n",
    "# Cleaning the text\n",
    "for i in range(len(sentences)):\n",
    "    # Remove non-alphabetic characters and convert to lowercase\n",
    "    review = re.sub('[^a-zA-Z]', ' ', sentences[i])\n",
    "    review = review.lower()  \n",
    "    \n",
    "    # Split the sentence into words\n",
    "    review = review.split()\n",
    "    \n",
    "    # Stem each word and remove stopwords\n",
    "    review = [ps.stem(word) for word in review if word not in set(stopwords.words('english'))]\n",
    "    \n",
    "    # Join the cleaned words back into a sentence\n",
    "    review = \" \".join(review)\n",
    "    \n",
    "    # Append the cleaned sentence to the corpus\n",
    "    corpus.append(review)\n",
    "    \n",
    "# Creating the TF-IDF model\n",
    "from sklearn.feature_extraction.text import TfidfVectorizer  # Import TfidfVectorizer\n",
    "\n",
    "tfidf = TfidfVectorizer()\n",
    "x = tfidf.fit_transform(corpus).toarray()  # Fit and transform the corpus into the TF-IDF model\n",
    "\n",
    "# Now 'x' contains the TF-IDF representation of the corpus\n"
   ]
  },
  {
   "cell_type": "markdown",
   "metadata": {},
   "source": [
    "# Word2Vec\n",
    "### Word2Vec: An Introduction\n",
    "\n",
    "**Word2Vec** is a popular word embedding technique developed by Google in 2013. Unlike traditional text representation methods like Bag of Words (BoW) and TF-IDF, which treat words as independent entities, Word2Vec captures semantic meaning by representing words as vectors in a continuous vector space. These vectors are learned from large datasets and reflect the contextual similarity between words.\n",
    "\n",
    "### How Word2Vec Works\n",
    "\n",
    "Word2Vec uses a neural network model to learn word associations from a large corpus of text. It comes in two main architectures:\n",
    "\n",
    "1. **Continuous Bag of Words (CBOW)**: Predicts a target word based on its surrounding context words.\n",
    "   - **Example**: For the sentence \"The cat sat on the mat\", the model might use the words \"The\", \"cat\", \"on\", \"the\", and \"mat\" to predict the word \"sat\".\n",
    "   \n",
    "2. **Skip-gram**: Predicts surrounding context words given a target word.\n",
    "   - **Example**: For the word \"sat\" in the sentence \"The cat sat on the mat\", the model might try to predict the words \"cat\", \"on\", \"the\", and \"mat\".\n",
    "\n",
    "\n",
    "### Key Differences Between Word2Vec, Bag of Words, and TF-IDF\n",
    "\n",
    "#### Representation:\n",
    "- **Bag of Words (BoW)**: Represents text as a sparse matrix where each word is treated as a separate feature, with each cell containing the frequency of the word in the document.\n",
    "- **TF-IDF**: Similar to BoW but weighs the frequency of words by their inverse document frequency, giving less importance to common words across the corpus.\n",
    "- **Word2Vec**: Represents each word as a dense vector of continuous numbers, capturing semantic relationships between words.\n",
    "\n",
    "#### Contextual Understanding:\n",
    "- **Bag of Words (BoW)**: Ignores the order of words and their context; it only considers whether a word is present or absent.\n",
    "- **TF-IDF**: Like BoW, it ignores word order and context but adds a layer of importance based on how common or rare a word is across documents.\n",
    "- **Word2Vec**: Considers the context in which words appear, learning relationships between words based on their usage in sentences. Words used in similar contexts will have similar vector representations.\n",
    "\n",
    "\n",
    "#### Semantics:\n",
    "- **Bag of Words (BoW) and TF-IDF**: Do not capture semantic relationships between words. \"cat\" and \"dog\" are treated as completely unrelated features.\n",
    "- **Word2Vec**: Captures semantic relationships. Words like \"cat\" and \"dog\" will have similar vector representations because they often appear in similar contexts.\n",
    "\n",
    "### Summary\n",
    "- **Bag of Words** and **TF-IDF** are simple and useful for many tasks, but they are limited in their ability to understand the context and semantics of words.\n",
    "- **Word2Vec**, on the other hand, offers a more sophisticated approach by capturing the meanings and relationships between words, making it powerful for tasks that require semantic understanding, such as sentiment analysis, recommendation systems, and more.\n",
    "\n"
   ]
  },
  {
   "cell_type": "code",
   "execution_count": 76,
   "metadata": {
    "tags": []
   },
   "outputs": [
    {
     "name": "stdout",
     "output_type": "stream",
     "text": [
      "Vector for 'token': [ 0.00180011  0.00704792  0.00294342 -0.00698107  0.00771445 -0.0059875\n",
      "  0.00899754  0.00295967 -0.00401694 -0.00468779 -0.00441776 -0.00614702\n",
      "  0.00938118 -0.00265032  0.00777397 -0.00968265  0.0021101  -0.00123162\n",
      "  0.00754255 -0.00905524  0.00743497 -0.00510684 -0.00601476 -0.00565083\n",
      " -0.0033778  -0.00341271 -0.00319543 -0.00749065  0.00070782 -0.00057491\n",
      " -0.00168308  0.00375563 -0.00762226 -0.00322158  0.00515336  0.00854375\n",
      " -0.00981021  0.00719634  0.0053107  -0.00387986  0.00857519 -0.00922167\n",
      "  0.00724838  0.00536439  0.00129314 -0.00519974 -0.00417756 -0.00335714\n",
      "  0.00160647  0.00158611  0.00738947  0.00997674  0.008866   -0.00400827\n",
      "  0.0096436  -0.00063103  0.00486533  0.00254838 -0.00063097  0.00366646\n",
      " -0.00531933 -0.00575831 -0.00760225  0.00190632  0.00652441  0.00088391\n",
      "  0.00125929  0.00317206  0.00813176 -0.00769964  0.00226079 -0.00747353\n",
      "  0.00371102  0.00951099  0.00751905  0.00642801  0.00801502  0.006552\n",
      "  0.00685522  0.00868283 -0.00494795  0.00921232  0.00505872 -0.00212982\n",
      "  0.00848806  0.00508002  0.00964879  0.0028316   0.00986974  0.0011978\n",
      "  0.009128    0.00358776  0.00656633 -0.00361327  0.00679563  0.00724403\n",
      " -0.00213175 -0.00185876  0.00361381 -0.0070382 ]\n",
      "Similar words to 'token': [('model', 0.24662119150161743), ('stem', 0.11938551068305969), ('intellig', 0.11926595866680145), ('analyz', 0.11647853255271912), ('comput', 0.09612837433815002), ('text', 0.08789688348770142), ('natur', 0.08546023070812225), ('machin', 0.07617492228746414), ('field', 0.07173426449298859), ('involv', 0.05967782437801361)]\n"
     ]
    }
   ],
   "source": [
    "import nltk\n",
    "import re  # Import the re module for regular expressions\n",
    "from nltk.corpus import stopwords\n",
    "from nltk.stem import PorterStemmer  \n",
    "from nltk.stem import WordNetLemmatizer \n",
    "from gensim.models import Word2Vec  # Import Word2Vec\n",
    "\n",
    "# Initialize the PorterStemmer and WordNetLemmatizer\n",
    "ps = PorterStemmer()\n",
    "wordnet = WordNetLemmatizer()\n",
    "\n",
    "# Example paragraph (you can replace this with your own text)\n",
    "paragraph = \"Natural language processing is a field of artificial intelligence that focuses on the interaction between computers and humans through natural language. It involves the ability to analyze, understand, and generate human language. Techniques such as tokenization, stemming, and removing stopwords are commonly used to preprocess text data for machine learning models.\"\n",
    "\n",
    "# Tokenize the paragraph into sentences\n",
    "sentences = nltk.sent_tokenize(paragraph)\n",
    "\n",
    "# Initialize an empty list to store the cleaned and tokenized sentences\n",
    "corpus = []\n",
    "\n",
    "# Cleaning the text\n",
    "for i in range(len(sentences)):\n",
    "    # Remove non-alphabetic characters and convert to lowercase\n",
    "    review = re.sub('[^a-zA-Z]', ' ', sentences[i])\n",
    "    review = review.lower()  \n",
    "    \n",
    "    # Split the sentence into words\n",
    "    review = review.split()\n",
    "    \n",
    "    # Stem each word and remove stopwords\n",
    "    review = [ps.stem(word) for word in review if word not in set(stopwords.words('english'))]\n",
    "    \n",
    "    # Append the cleaned and tokenized sentence to the corpus\n",
    "    corpus.append(review)\n",
    "\n",
    "# Training the Word2Vec model\n",
    "word2vec_model = Word2Vec(corpus, vector_size=100, window=5, min_count=1, workers=4)\n",
    "\n",
    "# Accessing the vocabulary (Note: 'wv.vocab' is deprecated and replaced by 'wv.index_to_key')\n",
    "words = word2vec_model.wv.index_to_key\n",
    "\n",
    "# Finding the vector for a specific word\n",
    "word = 'token'\n",
    "if word in words:\n",
    "    vector = word2vec_model.wv[word]\n",
    "    print(f\"Vector for '{word}': {vector}\")\n",
    "\n",
    "    # Finding similar words to the specific word\n",
    "    similar = word2vec_model.wv.most_similar(word)\n",
    "    print(f\"Similar words to '{word}': {similar}\")\n",
    "else:\n",
    "    print(f\"Word '{word}' not found in the vocabulary.\")\n"
   ]
  },
  {
   "cell_type": "markdown",
   "metadata": {},
   "source": [
    "# Spam Text Classification"
   ]
  },
  {
   "cell_type": "code",
   "execution_count": 33,
   "metadata": {
    "tags": []
   },
   "outputs": [
    {
     "data": {
      "text/html": [
       "<div>\n",
       "<style scoped>\n",
       "    .dataframe tbody tr th:only-of-type {\n",
       "        vertical-align: middle;\n",
       "    }\n",
       "\n",
       "    .dataframe tbody tr th {\n",
       "        vertical-align: top;\n",
       "    }\n",
       "\n",
       "    .dataframe thead th {\n",
       "        text-align: right;\n",
       "    }\n",
       "</style>\n",
       "<table border=\"1\" class=\"dataframe\">\n",
       "  <thead>\n",
       "    <tr style=\"text-align: right;\">\n",
       "      <th></th>\n",
       "      <th>label</th>\n",
       "      <th>message</th>\n",
       "      <th>length</th>\n",
       "      <th>punct</th>\n",
       "    </tr>\n",
       "  </thead>\n",
       "  <tbody>\n",
       "    <tr>\n",
       "      <th>0</th>\n",
       "      <td>ham</td>\n",
       "      <td>Go until jurong point, crazy.. Available only ...</td>\n",
       "      <td>111</td>\n",
       "      <td>9</td>\n",
       "    </tr>\n",
       "    <tr>\n",
       "      <th>1</th>\n",
       "      <td>ham</td>\n",
       "      <td>Ok lar... Joking wif u oni...</td>\n",
       "      <td>29</td>\n",
       "      <td>6</td>\n",
       "    </tr>\n",
       "    <tr>\n",
       "      <th>2</th>\n",
       "      <td>spam</td>\n",
       "      <td>Free entry in 2 a wkly comp to win FA Cup fina...</td>\n",
       "      <td>155</td>\n",
       "      <td>6</td>\n",
       "    </tr>\n",
       "    <tr>\n",
       "      <th>3</th>\n",
       "      <td>ham</td>\n",
       "      <td>U dun say so early hor... U c already then say...</td>\n",
       "      <td>49</td>\n",
       "      <td>6</td>\n",
       "    </tr>\n",
       "    <tr>\n",
       "      <th>4</th>\n",
       "      <td>ham</td>\n",
       "      <td>Nah I don't think he goes to usf, he lives aro...</td>\n",
       "      <td>61</td>\n",
       "      <td>2</td>\n",
       "    </tr>\n",
       "  </tbody>\n",
       "</table>\n",
       "</div>"
      ],
      "text/plain": [
       "  label                                            message  length  punct\n",
       "0   ham  Go until jurong point, crazy.. Available only ...     111      9\n",
       "1   ham                      Ok lar... Joking wif u oni...      29      6\n",
       "2  spam  Free entry in 2 a wkly comp to win FA Cup fina...     155      6\n",
       "3   ham  U dun say so early hor... U c already then say...      49      6\n",
       "4   ham  Nah I don't think he goes to usf, he lives aro...      61      2"
      ]
     },
     "execution_count": 33,
     "metadata": {},
     "output_type": "execute_result"
    }
   ],
   "source": [
    "import numpy as np\n",
    "import pandas as pd\n",
    "import matplotlib.pyplot as plt\n",
    "%matplotlib inline\n",
    "df = pd.read_csv('spam.tsv', sep = '\\t')\n",
    "df.head()"
   ]
  },
  {
   "cell_type": "code",
   "execution_count": 34,
   "metadata": {
    "tags": []
   },
   "outputs": [
    {
     "data": {
      "text/plain": [
       "label      0\n",
       "message    0\n",
       "length     0\n",
       "punct      0\n",
       "dtype: int64"
      ]
     },
     "execution_count": 34,
     "metadata": {},
     "output_type": "execute_result"
    }
   ],
   "source": [
    "df.isnull().sum()"
   ]
  },
  {
   "cell_type": "code",
   "execution_count": 35,
   "metadata": {
    "tags": []
   },
   "outputs": [
    {
     "data": {
      "text/plain": [
       "(5572, 4)"
      ]
     },
     "execution_count": 35,
     "metadata": {},
     "output_type": "execute_result"
    }
   ],
   "source": [
    "df.shape"
   ]
  },
  {
   "cell_type": "code",
   "execution_count": 36,
   "metadata": {
    "tags": []
   },
   "outputs": [
    {
     "data": {
      "text/plain": [
       "ham     4825\n",
       "spam     747\n",
       "Name: label, dtype: int64"
      ]
     },
     "execution_count": 36,
     "metadata": {},
     "output_type": "execute_result"
    }
   ],
   "source": [
    "df['label'].value_counts()"
   ]
  },
  {
   "cell_type": "markdown",
   "metadata": {},
   "source": [
    "### Balance Dataset"
   ]
  },
  {
   "cell_type": "code",
   "execution_count": 37,
   "metadata": {
    "tags": []
   },
   "outputs": [
    {
     "data": {
      "text/html": [
       "<div>\n",
       "<style scoped>\n",
       "    .dataframe tbody tr th:only-of-type {\n",
       "        vertical-align: middle;\n",
       "    }\n",
       "\n",
       "    .dataframe tbody tr th {\n",
       "        vertical-align: top;\n",
       "    }\n",
       "\n",
       "    .dataframe thead th {\n",
       "        text-align: right;\n",
       "    }\n",
       "</style>\n",
       "<table border=\"1\" class=\"dataframe\">\n",
       "  <thead>\n",
       "    <tr style=\"text-align: right;\">\n",
       "      <th></th>\n",
       "      <th>label</th>\n",
       "      <th>message</th>\n",
       "      <th>length</th>\n",
       "      <th>punct</th>\n",
       "    </tr>\n",
       "  </thead>\n",
       "  <tbody>\n",
       "    <tr>\n",
       "      <th>0</th>\n",
       "      <td>ham</td>\n",
       "      <td>Go until jurong point, crazy.. Available only ...</td>\n",
       "      <td>111</td>\n",
       "      <td>9</td>\n",
       "    </tr>\n",
       "    <tr>\n",
       "      <th>1</th>\n",
       "      <td>ham</td>\n",
       "      <td>Ok lar... Joking wif u oni...</td>\n",
       "      <td>29</td>\n",
       "      <td>6</td>\n",
       "    </tr>\n",
       "    <tr>\n",
       "      <th>3</th>\n",
       "      <td>ham</td>\n",
       "      <td>U dun say so early hor... U c already then say...</td>\n",
       "      <td>49</td>\n",
       "      <td>6</td>\n",
       "    </tr>\n",
       "    <tr>\n",
       "      <th>4</th>\n",
       "      <td>ham</td>\n",
       "      <td>Nah I don't think he goes to usf, he lives aro...</td>\n",
       "      <td>61</td>\n",
       "      <td>2</td>\n",
       "    </tr>\n",
       "    <tr>\n",
       "      <th>6</th>\n",
       "      <td>ham</td>\n",
       "      <td>Even my brother is not like to speak with me. ...</td>\n",
       "      <td>77</td>\n",
       "      <td>2</td>\n",
       "    </tr>\n",
       "  </tbody>\n",
       "</table>\n",
       "</div>"
      ],
      "text/plain": [
       "  label                                            message  length  punct\n",
       "0   ham  Go until jurong point, crazy.. Available only ...     111      9\n",
       "1   ham                      Ok lar... Joking wif u oni...      29      6\n",
       "3   ham  U dun say so early hor... U c already then say...      49      6\n",
       "4   ham  Nah I don't think he goes to usf, he lives aro...      61      2\n",
       "6   ham  Even my brother is not like to speak with me. ...      77      2"
      ]
     },
     "execution_count": 37,
     "metadata": {},
     "output_type": "execute_result"
    }
   ],
   "source": [
    "ham = df[df['label']=='ham']\n",
    "ham.head()"
   ]
  },
  {
   "cell_type": "code",
   "execution_count": 38,
   "metadata": {
    "tags": []
   },
   "outputs": [
    {
     "data": {
      "text/html": [
       "<div>\n",
       "<style scoped>\n",
       "    .dataframe tbody tr th:only-of-type {\n",
       "        vertical-align: middle;\n",
       "    }\n",
       "\n",
       "    .dataframe tbody tr th {\n",
       "        vertical-align: top;\n",
       "    }\n",
       "\n",
       "    .dataframe thead th {\n",
       "        text-align: right;\n",
       "    }\n",
       "</style>\n",
       "<table border=\"1\" class=\"dataframe\">\n",
       "  <thead>\n",
       "    <tr style=\"text-align: right;\">\n",
       "      <th></th>\n",
       "      <th>label</th>\n",
       "      <th>message</th>\n",
       "      <th>length</th>\n",
       "      <th>punct</th>\n",
       "    </tr>\n",
       "  </thead>\n",
       "  <tbody>\n",
       "    <tr>\n",
       "      <th>2</th>\n",
       "      <td>spam</td>\n",
       "      <td>Free entry in 2 a wkly comp to win FA Cup fina...</td>\n",
       "      <td>155</td>\n",
       "      <td>6</td>\n",
       "    </tr>\n",
       "    <tr>\n",
       "      <th>5</th>\n",
       "      <td>spam</td>\n",
       "      <td>FreeMsg Hey there darling it's been 3 week's n...</td>\n",
       "      <td>147</td>\n",
       "      <td>8</td>\n",
       "    </tr>\n",
       "    <tr>\n",
       "      <th>8</th>\n",
       "      <td>spam</td>\n",
       "      <td>WINNER!! As a valued network customer you have...</td>\n",
       "      <td>157</td>\n",
       "      <td>6</td>\n",
       "    </tr>\n",
       "    <tr>\n",
       "      <th>9</th>\n",
       "      <td>spam</td>\n",
       "      <td>Had your mobile 11 months or more? U R entitle...</td>\n",
       "      <td>154</td>\n",
       "      <td>2</td>\n",
       "    </tr>\n",
       "    <tr>\n",
       "      <th>11</th>\n",
       "      <td>spam</td>\n",
       "      <td>SIX chances to win CASH! From 100 to 20,000 po...</td>\n",
       "      <td>136</td>\n",
       "      <td>8</td>\n",
       "    </tr>\n",
       "  </tbody>\n",
       "</table>\n",
       "</div>"
      ],
      "text/plain": [
       "   label                                            message  length  punct\n",
       "2   spam  Free entry in 2 a wkly comp to win FA Cup fina...     155      6\n",
       "5   spam  FreeMsg Hey there darling it's been 3 week's n...     147      8\n",
       "8   spam  WINNER!! As a valued network customer you have...     157      6\n",
       "9   spam  Had your mobile 11 months or more? U R entitle...     154      2\n",
       "11  spam  SIX chances to win CASH! From 100 to 20,000 po...     136      8"
      ]
     },
     "execution_count": 38,
     "metadata": {},
     "output_type": "execute_result"
    }
   ],
   "source": [
    "spam = df[df['label']=='spam']\n",
    "spam.head()"
   ]
  },
  {
   "cell_type": "code",
   "execution_count": 39,
   "metadata": {
    "tags": []
   },
   "outputs": [
    {
     "data": {
      "text/plain": [
       "((4825, 4), (747, 4))"
      ]
     },
     "execution_count": 39,
     "metadata": {},
     "output_type": "execute_result"
    }
   ],
   "source": [
    "ham.shape, spam.shape"
   ]
  },
  {
   "cell_type": "code",
   "execution_count": 40,
   "metadata": {
    "tags": []
   },
   "outputs": [],
   "source": [
    "ham = ham.sample(spam.shape[0])"
   ]
  },
  {
   "cell_type": "markdown",
   "metadata": {},
   "source": [
    "The line of code `ham = ham.sample(spam.shape[0])` is typically used in data processing, particularly when dealing with imbalanced datasets.\n",
    "\n",
    "### Breakdown:\n",
    "- **ham**: The DataFrame or Series containing the \"ham\" (non-spam) samples.\n",
    "- **spam.shape[0]**: The number of rows in the `spam` dataset.\n",
    "- **ham.sample(spam.shape[0])**: Randomly samples `spam.shape[0]` rows from the `ham` dataset.\n",
    "\n",
    "### Full Example:\n",
    "If `spam` has 500 rows and `ham` has 1000 rows, this line of code will randomly select 500 rows from the `ham` dataset, resulting in both `ham` and `spam` having 500 rows each.\n"
   ]
  },
  {
   "cell_type": "code",
   "execution_count": 41,
   "metadata": {
    "tags": []
   },
   "outputs": [
    {
     "data": {
      "text/plain": [
       "((747, 4), (747, 4))"
      ]
     },
     "execution_count": 41,
     "metadata": {},
     "output_type": "execute_result"
    }
   ],
   "source": [
    "ham.shape, spam.shape"
   ]
  },
  {
   "cell_type": "code",
   "execution_count": 42,
   "metadata": {
    "tags": []
   },
   "outputs": [
    {
     "name": "stderr",
     "output_type": "stream",
     "text": [
      "/tmp/ipykernel_127/2287010461.py:1: FutureWarning: The frame.append method is deprecated and will be removed from pandas in a future version. Use pandas.concat instead.\n",
      "  data = ham.append(spam, ignore_index=True)\n"
     ]
    }
   ],
   "source": [
    "data = ham.append(spam, ignore_index=True)"
   ]
  },
  {
   "cell_type": "markdown",
   "metadata": {},
   "source": [
    "The line of code `data = ham.append(spam, ignore_index=True)` is used to combine two datasets, `ham` and `spam`, into a single DataFrame.\n",
    "\n",
    "### Breakdown:\n",
    "- **ham**: The DataFrame containing the \"ham\" (non-spam) samples.\n",
    "- **spam**: The DataFrame containing the \"spam\" samples.\n",
    "- **ham.append(spam, ignore_index=True)**: Combines the `ham` and `spam` DataFrames into a single DataFrame, `data`.\n",
    "\n",
    "### Explanation:\n",
    "- **Appending Data**: The `append()` function is used to add the rows of one DataFrame (`spam`) to the end of another DataFrame (`ham`).\n",
    "- **ignore_index=True**: This parameter resets the index of the resulting DataFrame. Instead of keeping the original index values from `ham` and `spam`, it generates a new continuous index for the combined DataFrame. This is particularly useful when you want a unified index without any duplicate or missing indices.\n",
    "\n",
    "### Result:\n",
    "The result is a new DataFrame `data` that contains all the rows from both `ham` and `spam`, with the indices reset.\n",
    "\n",
    "### Example Use Case:\n",
    "If `ham` contains 500 rows and `spam` contains 500 rows, `data` will contain 1000 rows, with the index ranging from 0 to 999.\n"
   ]
  },
  {
   "cell_type": "code",
   "execution_count": 43,
   "metadata": {
    "tags": []
   },
   "outputs": [
    {
     "data": {
      "text/html": [
       "<div>\n",
       "<style scoped>\n",
       "    .dataframe tbody tr th:only-of-type {\n",
       "        vertical-align: middle;\n",
       "    }\n",
       "\n",
       "    .dataframe tbody tr th {\n",
       "        vertical-align: top;\n",
       "    }\n",
       "\n",
       "    .dataframe thead th {\n",
       "        text-align: right;\n",
       "    }\n",
       "</style>\n",
       "<table border=\"1\" class=\"dataframe\">\n",
       "  <thead>\n",
       "    <tr style=\"text-align: right;\">\n",
       "      <th></th>\n",
       "      <th>label</th>\n",
       "      <th>message</th>\n",
       "      <th>length</th>\n",
       "      <th>punct</th>\n",
       "    </tr>\n",
       "  </thead>\n",
       "  <tbody>\n",
       "    <tr>\n",
       "      <th>1138</th>\n",
       "      <td>spam</td>\n",
       "      <td>YOUR CHANCE TO BE ON A REALITY FANTASY SHOW ca...</td>\n",
       "      <td>151</td>\n",
       "      <td>3</td>\n",
       "    </tr>\n",
       "    <tr>\n",
       "      <th>87</th>\n",
       "      <td>ham</td>\n",
       "      <td>Gumby's has a special where a  &amp;lt;#&amp;gt; \" che...</td>\n",
       "      <td>95</td>\n",
       "      <td>9</td>\n",
       "    </tr>\n",
       "    <tr>\n",
       "      <th>862</th>\n",
       "      <td>spam</td>\n",
       "      <td>5 Free Top Polyphonic Tones call 087018728737,...</td>\n",
       "      <td>157</td>\n",
       "      <td>6</td>\n",
       "    </tr>\n",
       "    <tr>\n",
       "      <th>870</th>\n",
       "      <td>spam</td>\n",
       "      <td>25p 4 alfie Moon's Children in need song on ur...</td>\n",
       "      <td>161</td>\n",
       "      <td>5</td>\n",
       "    </tr>\n",
       "    <tr>\n",
       "      <th>1475</th>\n",
       "      <td>spam</td>\n",
       "      <td>Latest News! Police station toilet stolen, cop...</td>\n",
       "      <td>70</td>\n",
       "      <td>3</td>\n",
       "    </tr>\n",
       "  </tbody>\n",
       "</table>\n",
       "</div>"
      ],
      "text/plain": [
       "     label                                            message  length  punct\n",
       "1138  spam  YOUR CHANCE TO BE ON A REALITY FANTASY SHOW ca...     151      3\n",
       "87     ham  Gumby's has a special where a  &lt;#&gt; \" che...      95      9\n",
       "862   spam  5 Free Top Polyphonic Tones call 087018728737,...     157      6\n",
       "870   spam  25p 4 alfie Moon's Children in need song on ur...     161      5\n",
       "1475  spam  Latest News! Police station toilet stolen, cop...      70      3"
      ]
     },
     "execution_count": 43,
     "metadata": {},
     "output_type": "execute_result"
    }
   ],
   "source": [
    "data.sample(5)"
   ]
  },
  {
   "cell_type": "code",
   "execution_count": 44,
   "metadata": {
    "tags": []
   },
   "outputs": [
    {
     "data": {
      "text/plain": [
       "(1494, 4)"
      ]
     },
     "execution_count": 44,
     "metadata": {},
     "output_type": "execute_result"
    }
   ],
   "source": [
    "data.shape"
   ]
  },
  {
   "cell_type": "code",
   "execution_count": 45,
   "metadata": {
    "tags": []
   },
   "outputs": [
    {
     "data": {
      "text/plain": [
       "ham     747\n",
       "spam    747\n",
       "Name: label, dtype: int64"
      ]
     },
     "execution_count": 45,
     "metadata": {},
     "output_type": "execute_result"
    }
   ],
   "source": [
    "data['label'].value_counts()"
   ]
  },
  {
   "cell_type": "code",
   "execution_count": 46,
   "metadata": {
    "tags": []
   },
   "outputs": [
    {
     "data": {
      "image/png": "[encoded data removed]",
      "text/plain": [
       "<Figure size 640x480 with 1 Axes>"
      ]
     },
     "metadata": {},
     "output_type": "display_data"
    }
   ],
   "source": [
    "plt.hist(ham['length'], bins = 100, alpha = 0.7, label='Ham')\n",
    "plt.hist(spam['length'], bins = 100, alpha = 0.7, label = 'Spam')\n",
    "plt.legend()\n",
    "plt.show()"
   ]
  },
  {
   "cell_type": "code",
   "execution_count": 47,
   "metadata": {
    "tags": []
   },
   "outputs": [
    {
     "data": {
      "image/png": "[encoded data removed]",
      "text/plain": [
       "<Figure size 640x480 with 1 Axes>"
      ]
     },
     "metadata": {},
     "output_type": "display_data"
    }
   ],
   "source": [
    "plt.hist(ham['punct'], bins = 100, alpha = 0.7, label='Ham')\n",
    "plt.hist(spam['punct'], bins = 100, alpha = 0.7, label = 'Spam')\n",
    "plt.legend()\n",
    "plt.show()"
   ]
  },
  {
   "cell_type": "markdown",
   "metadata": {},
   "source": [
    "# Creating the Bag of Word model-Naive baes classifier-evaluation"
   ]
  },
  {
   "cell_type": "code",
   "execution_count": 66,
   "metadata": {
    "tags": []
   },
   "outputs": [
    {
     "name": "stdout",
     "output_type": "stream",
     "text": [
      "[[145   6]\n",
      " [  8 140]]\n",
      "Accuracy: 95.32%\n",
      "              precision    recall  f1-score   support\n",
      "\n",
      "           0       0.95      0.96      0.95       151\n",
      "           1       0.96      0.95      0.95       148\n",
      "\n",
      "    accuracy                           0.95       299\n",
      "   macro avg       0.95      0.95      0.95       299\n",
      "weighted avg       0.95      0.95      0.95       299\n",
      "\n"
     ]
    },
    {
     "name": "stderr",
     "output_type": "stream",
     "text": [
      "/usr/local/lib/python3.8/dist-packages/sklearn/utils/validation.py:73: DataConversionWarning: A column-vector y was passed when a 1d array was expected. Please change the shape of y to (n_samples, ), for example using ravel().\n",
      "  return f(**kwargs)\n"
     ]
    }
   ],
   "source": [
    "import nltk\n",
    "import re  # Import the re module for regular expressions\n",
    "from nltk.corpus import stopwords\n",
    "from nltk.stem import PorterStemmer  \n",
    "from nltk.stem import WordNetLemmatizer \n",
    "from sklearn.feature_extraction.text import CountVectorizer  # Import CountVectorizer for Bag of Words model\n",
    "import pandas as pd  # Import pandas for handling DataFrames\n",
    "\n",
    "# Initialize the PorterStemmer and WordNetLemmatizer\n",
    "ps = PorterStemmer()\n",
    "corpus = []\n",
    "messages=data\n",
    "\n",
    "# Cleaning the text\n",
    "for i in range(0,len(messages)):\n",
    "    # Remove non-alphabetic characters and convert to lowercase\n",
    "    review = re.sub('[^a-zA-Z]', ' ', messages['message'][i])\n",
    "    review = review.lower()  \n",
    "    \n",
    "    # Split the sentence into words\n",
    "    review = review.split()\n",
    "    \n",
    "    # Stem each word and remove stopwords\n",
    "    review = [ps.stem(word) for word in review if word not in set(stopwords.words('english'))]\n",
    "    \n",
    "    # Join the cleaned words back into a sentence\n",
    "    review = \" \".join(review)\n",
    "    \n",
    "    # Append the cleaned sentence to the corpus\n",
    "    corpus.append(review)\n",
    "\n",
    "# Creating the Bag of Words model\n",
    "cv = CountVectorizer()\n",
    "X = cv.fit_transform(corpus).toarray() \n",
    "\n",
    "# Assuming 'messages' has a 'label' column for classification\n",
    "y = pd.get_dummies(messages['label'], drop_first=True).values  # Convert labels to dummy variables\n",
    "\n",
    "# Training and Testing\n",
    "from sklearn.model_selection import train_test_split  \n",
    "\n",
    "# Splitting the dataset into training and testing sets\n",
    "X_train, X_test, y_train, y_test = train_test_split(X, y, test_size=0.2, random_state=0)\n",
    "\n",
    "# Training the model using Naive Bayes classifier\n",
    "from sklearn.naive_bayes import MultinomialNB  # Corrected import statement and class name\n",
    "\n",
    "# Initialize and train the Naive Bayes model\n",
    "spam_detect_model = MultinomialNB().fit(X_train, y_train)\n",
    "\n",
    "# Predict the labels for the test set\n",
    "y_pred = spam_detect_model.predict(X_test)\n",
    "\n",
    "# Evaluation\n",
    "from sklearn.metrics import confusion_matrix, accuracy_score, classification_report \n",
    "\n",
    "# Generate the confusion matrix\n",
    "confusion_m = confusion_matrix(y_test, y_pred)\n",
    "accuracy=accuracy_score(y_test,y_pred)\n",
    "\n",
    "# Display the confusion matrix\n",
    "print(confusion_m)\n",
    "print(f\"Accuracy: {accuracy * 100:.2f}%\")\n",
    "\n",
    "print(classification_report(y_test, y_pred))"
   ]
  },
  {
   "cell_type": "markdown",
   "metadata": {},
   "source": [
    "# Creating TF-IDF-RandomForest-Evaluaton"
   ]
  },
  {
   "cell_type": "code",
   "execution_count": 65,
   "metadata": {
    "tags": []
   },
   "outputs": [
    {
     "name": "stderr",
     "output_type": "stream",
     "text": [
      "/tmp/ipykernel_127/3138776016.py:49: DataConversionWarning: A column-vector y was passed when a 1d array was expected. Please change the shape of y to (n_samples,), for example using ravel().\n",
      "  spam_detect_model = RandomForestClassifier(n_estimators=100, random_state=0).fit(X_train, y_train)\n"
     ]
    },
    {
     "name": "stdout",
     "output_type": "stream",
     "text": [
      "[[148   3]\n",
      " [ 12 136]]\n",
      "Accuracy: 94.98%\n",
      "              precision    recall  f1-score   support\n",
      "\n",
      "           0       0.93      0.98      0.95       151\n",
      "           1       0.98      0.92      0.95       148\n",
      "\n",
      "    accuracy                           0.95       299\n",
      "   macro avg       0.95      0.95      0.95       299\n",
      "weighted avg       0.95      0.95      0.95       299\n",
      "\n"
     ]
    }
   ],
   "source": [
    "import nltk\n",
    "import re  # Import the re module for regular expressions\n",
    "from nltk.corpus import stopwords\n",
    "from nltk.stem import PorterStemmer  \n",
    "from nltk.stem import WordNetLemmatizer \n",
    "from sklearn.feature_extraction.text import TfidfVectorizer  # Import TfidfVectorizer for TF-IDF model\n",
    "\n",
    "\n",
    "# Initialize the PorterStemmer and WordNetLemmatizer\n",
    "ps = PorterStemmer()\n",
    "corpus = []\n",
    "messages = data\n",
    "\n",
    "# Cleaning the text\n",
    "for i in range(len(messages)):\n",
    "    # Remove non-alphabetic characters and convert to lowercase\n",
    "    review = re.sub('[^a-zA-Z]', ' ', messages['message'][i])\n",
    "    review = review.lower()  \n",
    "    \n",
    "    # Split the sentence into words\n",
    "    review = review.split()\n",
    "    \n",
    "    # Stem each word and remove stopwords\n",
    "    review = [ps.stem(word) for word in review if word not in set(stopwords.words('english'))]\n",
    "    \n",
    "    # Join the cleaned words back into a sentence\n",
    "    review = \" \".join(review)\n",
    "    \n",
    "    # Append the cleaned sentence to the corpus\n",
    "    corpus.append(review)\n",
    "\n",
    "# Creating the TF-IDF model\n",
    "tfidf = TfidfVectorizer(max_features=5000)  # Limit the features to 5000 for efficiency\n",
    "X = tfidf.fit_transform(corpus).toarray()\n",
    "\n",
    "# Assuming 'messages' has a 'label' column for classification\n",
    "y = pd.get_dummies(messages['label'], drop_first=True).values  # Convert labels to dummy variables\n",
    "\n",
    "# Training and Testing\n",
    "from sklearn.model_selection import train_test_split  \n",
    "\n",
    "# Splitting the dataset into training and testing sets\n",
    "X_train, X_test, y_train, y_test = train_test_split(X, y, test_size=0.2, random_state=0)\n",
    "\n",
    "# Training the model using Random Forest classifier\n",
    "from sklearn.ensemble import RandomForestClassifier  # Import RandomForestClassifier\n",
    "\n",
    "# Initialize and train the Random Forest model\n",
    "spam_detect_model = RandomForestClassifier(n_estimators=100, random_state=0).fit(X_train, y_train)\n",
    "\n",
    "# Predict the labels for the test set\n",
    "y_pred = spam_detect_model.predict(X_test)\n",
    "\n",
    "# Evaluation\n",
    "from sklearn.metrics import confusion_matrix, accuracy_score, classification_report \n",
    "\n",
    "# Generate the confusion matrix\n",
    "confusion_m = confusion_matrix(y_test, y_pred)\n",
    "accuracy = accuracy_score(y_test, y_pred)\n",
    "\n",
    "# Display the confusion matrix and accuracy\n",
    "print(confusion_m)\n",
    "print(f\"Accuracy: {accuracy * 100:.2f}%\")\n",
    "print(classification_report(y_test, y_pred))\n"
   ]
  },
  {
   "cell_type": "markdown",
   "metadata": {},
   "source": [
    "# Word2vec and SVM"
   ]
  },
  {
   "cell_type": "code",
   "execution_count": 78,
   "metadata": {
    "tags": []
   },
   "outputs": [
    {
     "name": "stdout",
     "output_type": "stream",
     "text": [
      "[[118  33]\n",
      " [ 31 117]]\n",
      "Accuracy: 78.60%\n",
      "              precision    recall  f1-score   support\n",
      "\n",
      "           0       0.79      0.78      0.79       151\n",
      "           1       0.78      0.79      0.79       148\n",
      "\n",
      "    accuracy                           0.79       299\n",
      "   macro avg       0.79      0.79      0.79       299\n",
      "weighted avg       0.79      0.79      0.79       299\n",
      "\n"
     ]
    }
   ],
   "source": [
    "import nltk\n",
    "import re  # Import the re module for regular expressions\n",
    "from nltk.corpus import stopwords\n",
    "from nltk.stem import PorterStemmer  \n",
    "from sklearn.model_selection import train_test_split  \n",
    "from sklearn.svm import SVC  # Import SVM classifier\n",
    "from gensim.models import Word2Vec  # Import Word2Vec from gensim\n",
    "import pandas as pd  # Import pandas for handling DataFrames\n",
    "from sklearn.metrics import confusion_matrix, accuracy_score, classification_report \n",
    "\n",
    "# Initialize the PorterStemmer\n",
    "ps = PorterStemmer()\n",
    "corpus = []\n",
    "messages = data  # Assuming 'data' is your DataFrame\n",
    "\n",
    "# Cleaning the text\n",
    "for i in range(0, len(messages)):\n",
    "    # Remove non-alphabetic characters and convert to lowercase\n",
    "    review = re.sub('[^a-zA-Z]', ' ', messages['message'][i])\n",
    "    review = review.lower()  \n",
    "    \n",
    "    # Split the sentence into words\n",
    "    review = review.split()\n",
    "    \n",
    "    # Stem each word and remove stopwords\n",
    "    review = [ps.stem(word) for word in review if word not in set(stopwords.words('english'))]\n",
    "    \n",
    "    # Append the cleaned sentence to the corpus\n",
    "    corpus.append(review)\n",
    "\n",
    "# Training the Word2Vec model\n",
    "word2vec_model = Word2Vec(corpus, vector_size=100, window=5, min_count=1, workers=4)\n",
    "\n",
    "# Generating the word vectors for each sentence in the corpus\n",
    "def get_average_word2vec(sentence, model, vector_size):\n",
    "    # Function to average word vectors for a sentence\n",
    "    #Creates an array of zeros with the same size as the word vectors. \n",
    "    vec = np.zeros(vector_size)\n",
    "    count = 0\n",
    "    for word in sentence:\n",
    "        if word in model.wv.key_to_index:\n",
    "            vec += model.wv[word]\n",
    "            count += 1\n",
    "    if count != 0:\n",
    "        vec /= count\n",
    "    return vec\n",
    "\n",
    "X = np.array([get_average_word2vec(sentence, word2vec_model, 100) for sentence in corpus])\n",
    "\n",
    "# Assuming 'messages' has a 'label' column for classification\n",
    "y = pd.get_dummies(messages['label'], drop_first=True).values.ravel()  # Convert labels to dummy variables and flatten\n",
    "\n",
    "# Splitting the dataset into training and testing sets\n",
    "X_train, X_test, y_train, y_test = train_test_split(X, y, test_size=0.2, random_state=0)\n",
    "\n",
    "# Training the model using SVM classifier\n",
    "svm_model = SVC(kernel='linear', random_state=0)  # Initialize and train the SVM model\n",
    "svm_model.fit(X_train, y_train)\n",
    "\n",
    "# Predict the labels for the test set\n",
    "y_pred = svm_model.predict(X_test)\n",
    "\n",
    "# Evaluation\n",
    "confusion_m = confusion_matrix(y_test, y_pred)\n",
    "accuracy = accuracy_score(y_test, y_pred)\n",
    "\n",
    "# Display the confusion matrix and accuracy\n",
    "print(confusion_m)\n",
    "print(f\"Accuracy: {accuracy * 100:.2f}%\")\n",
    "print(classification_report(y_test, y_pred))\n"
   ]
  },
  {
   "cell_type": "markdown",
   "metadata": {
    "tags": []
   },
   "source": [
    "# LSTM "
   ]
  },
  {
   "cell_type": "code",
   "execution_count": 86,
   "metadata": {},
   "outputs": [
    {
     "name": "stdout",
     "output_type": "stream",
     "text": [
      "Epoch 1/10\n",
      "15/15 [==============================] - 4s 154ms/step - loss: 0.6944 - accuracy: 0.4895 - val_loss: 0.6935 - val_accuracy: 0.4854\n",
      "Epoch 2/10\n",
      "15/15 [==============================] - 2s 128ms/step - loss: 0.6940 - accuracy: 0.4895 - val_loss: 0.6930 - val_accuracy: 0.5146\n",
      "Epoch 3/10\n",
      "15/15 [==============================] - 2s 128ms/step - loss: 0.6950 - accuracy: 0.5021 - val_loss: 0.6934 - val_accuracy: 0.4854\n",
      "Epoch 4/10\n",
      "15/15 [==============================] - 2s 129ms/step - loss: 0.6936 - accuracy: 0.5052 - val_loss: 0.6930 - val_accuracy: 0.5146\n",
      "Epoch 5/10\n",
      "15/15 [==============================] - 2s 131ms/step - loss: 0.6942 - accuracy: 0.5010 - val_loss: 0.6935 - val_accuracy: 0.4854\n",
      "Epoch 6/10\n",
      "15/15 [==============================] - 2s 129ms/step - loss: 0.6936 - accuracy: 0.4990 - val_loss: 0.6929 - val_accuracy: 0.5146\n",
      "Epoch 7/10\n",
      "15/15 [==============================] - 2s 129ms/step - loss: 0.6940 - accuracy: 0.4854 - val_loss: 0.6934 - val_accuracy: 0.4854\n",
      "Epoch 8/10\n",
      "15/15 [==============================] - 2s 129ms/step - loss: 0.6935 - accuracy: 0.4728 - val_loss: 0.6931 - val_accuracy: 0.5146\n",
      "Epoch 9/10\n",
      "15/15 [==============================] - 2s 134ms/step - loss: 0.6934 - accuracy: 0.4895 - val_loss: 0.6935 - val_accuracy: 0.4854\n",
      "10/10 [==============================] - 1s 30ms/step\n",
      "[[  0 151]\n",
      " [  0 148]]\n",
      "Accuracy: 49.50%\n",
      "              precision    recall  f1-score   support\n",
      "\n",
      "           0       0.00      0.00      0.00       151\n",
      "           1       0.49      1.00      0.66       148\n",
      "\n",
      "    accuracy                           0.49       299\n",
      "   macro avg       0.25      0.50      0.33       299\n",
      "weighted avg       0.25      0.49      0.33       299\n",
      "\n"
     ]
    },
    {
     "name": "stderr",
     "output_type": "stream",
     "text": [
      "/usr/local/lib/python3.8/dist-packages/sklearn/metrics/_classification.py:1221: UndefinedMetricWarning: Precision and F-score are ill-defined and being set to 0.0 in labels with no predicted samples. Use `zero_division` parameter to control this behavior.\n",
      "  _warn_prf(average, modifier, msg_start, len(result))\n"
     ]
    }
   ],
   "source": [
    "import nltk\n",
    "import re\n",
    "import numpy as np\n",
    "from nltk.corpus import stopwords\n",
    "from nltk.stem import PorterStemmer\n",
    "from sklearn.model_selection import train_test_split\n",
    "from tensorflow.keras.preprocessing.text import Tokenizer\n",
    "from tensorflow.keras.preprocessing.sequence import pad_sequences\n",
    "from tensorflow.keras.models import Sequential\n",
    "from tensorflow.keras.layers import Embedding, LSTM, Dense, Dropout\n",
    "from tensorflow.keras.callbacks import EarlyStopping\n",
    "import pandas as pd\n",
    "from sklearn.metrics import confusion_matrix, accuracy_score, classification_report\n",
    "\n",
    "# Initialize the PorterStemmer\n",
    "ps = PorterStemmer()\n",
    "corpus = []\n",
    "messages = data  # Assuming 'data' is your DataFrame\n",
    "\n",
    "# Cleaning the text\n",
    "for i in range(0, len(messages)):\n",
    "    # Remove non-alphabetic characters and convert to lowercase\n",
    "    review = re.sub('[^a-zA-Z]', ' ', messages['message'][i])\n",
    "    review = review.lower()\n",
    "    \n",
    "    # Split the sentence into words\n",
    "    review = review.split()\n",
    "    \n",
    "    # Stem each word and remove stopwords\n",
    "    review = [ps.stem(word) for word in review if word not in set(stopwords.words('english'))]\n",
    "    \n",
    "    # Append the cleaned sentence to the corpus\n",
    "    corpus.append(' '.join(review))\n",
    "\n",
    "# Tokenization and word embedding preparation\n",
    "# Step 1: Initialize the Tokenizer\n",
    "tokenizer = Tokenizer()  # Tokenizer will convert words to integer indices\n",
    "\n",
    "# Step 2: Fit the tokenizer on the corpus\n",
    "tokenizer.fit_on_texts(corpus)  # Create the vocabulary based on the corpus\n",
    "\n",
    "# Step 3: Convert texts to sequences of integers\n",
    "X = tokenizer.texts_to_sequences(corpus)  # Each sentence is converted to a list of integers\n",
    "\n",
    "# Step 4: Padding sequences to ensure uniform input length\n",
    "max_len = max(len(seq) for seq in X)  # Determine the maximum sequence length\n",
    "X = pad_sequences(X, maxlen=max_len, padding='post')  # Pad sequences with zeros at the end\n",
    "\n",
    "# Assuming 'messages' has a 'label' column for classification\n",
    "y = pd.get_dummies(messages['label'], drop_first=True).values  # Convert labels to dummy variables\n",
    "\n",
    "# Splitting the dataset into training and testing sets\n",
    "X_train, X_test, y_train, y_test = train_test_split(X, y, test_size=0.2, random_state=0)\n",
    "\n",
    "# Building the LSTM model\n",
    "model = Sequential()\n",
    "\n",
    "# Step 5: Add Embedding layer\n",
    "# The Embedding layer turns positive integers (indexes) into dense vectors of fixed size\n",
    "model.add(Embedding(input_dim=len(tokenizer.word_index) + 1,  # Size of the vocabulary\n",
    "                    output_dim=100,  # Size of the word vectors\n",
    "                    input_length=max_len))  # Length of input sequences\n",
    "\n",
    "# Step 6: Add LSTM layers with Dropout for regularization\n",
    "model.add(LSTM(units=128, return_sequences=True))  # First LSTM layer with output sequences\n",
    "model.add(Dropout(0.2))  # Dropout to prevent overfitting\n",
    "model.add(LSTM(units=128))  # Second LSTM layer\n",
    "model.add(Dropout(0.2))  # Another Dropout layer\n",
    "\n",
    "# Step 7: Add output layer for binary classification\n",
    "model.add(Dense(units=1, activation='sigmoid'))  # Sigmoid for binary classification\n",
    "\n",
    "# Step 8: Compile the model\n",
    "model.compile(optimizer='adam', loss='binary_crossentropy', metrics=['accuracy'])\n",
    "\n",
    "# Step 9: Define EarlyStopping callback\n",
    "early_stopping = EarlyStopping(monitor='val_loss', patience=3, restore_best_weights=True)\n",
    "\n",
    "# Step 10: Train the model with early stopping\n",
    "model.fit(X_train, y_train, epochs=10, batch_size=64, validation_split=0.2, callbacks=[early_stopping])\n",
    "\n",
    "# Step 11: Predicting the labels for the test set\n",
    "y_pred = (model.predict(X_test) > 0.5).astype(\"int32\")  # Convert probabilities to binary predictions\n",
    "\n",
    "# Evaluation\n",
    "confusion_m = confusion_matrix(y_test, y_pred)  # Confusion matrix\n",
    "accuracy = accuracy_score(y_test, y_pred)  # Accuracy score\n",
    "\n",
    "# Display the confusion matrix and accuracy\n",
    "print(confusion_m)\n",
    "print(f\"Accuracy: {accuracy * 100:.2f}%\")\n",
    "print(classification_report(y_test, y_pred))  # Detailed classification report\n"
   ]
  },
  {
   "cell_type": "markdown",
   "metadata": {},
   "source": [
    "# biLSTM"
   ]
  },
  {
   "cell_type": "code",
   "execution_count": 87,
   "metadata": {
    "tags": []
   },
   "outputs": [
    {
     "name": "stdout",
     "output_type": "stream",
     "text": [
      "Epoch 1/10\n",
      "15/15 [==============================] - 5s 184ms/step - loss: 0.5639 - accuracy: 0.6757 - val_loss: 0.3700 - val_accuracy: 0.8536\n",
      "Epoch 2/10\n",
      "15/15 [==============================] - 2s 137ms/step - loss: 0.2291 - accuracy: 0.9215 - val_loss: 0.1656 - val_accuracy: 0.9456\n",
      "Epoch 3/10\n",
      "15/15 [==============================] - 2s 136ms/step - loss: 0.0795 - accuracy: 0.9791 - val_loss: 0.1304 - val_accuracy: 0.9582\n",
      "Epoch 4/10\n",
      "15/15 [==============================] - 2s 135ms/step - loss: 0.0451 - accuracy: 0.9895 - val_loss: 0.1896 - val_accuracy: 0.9498\n",
      "Epoch 5/10\n",
      "15/15 [==============================] - 2s 140ms/step - loss: 0.0244 - accuracy: 0.9937 - val_loss: 0.1637 - val_accuracy: 0.9582\n",
      "Epoch 6/10\n",
      "15/15 [==============================] - 2s 135ms/step - loss: 0.0148 - accuracy: 0.9969 - val_loss: 0.1690 - val_accuracy: 0.9540\n",
      "10/10 [==============================] - 1s 31ms/step\n",
      "[[146   5]\n",
      " [ 12 136]]\n",
      "Accuracy: 94.31%\n",
      "              precision    recall  f1-score   support\n",
      "\n",
      "           0       0.92      0.97      0.94       151\n",
      "           1       0.96      0.92      0.94       148\n",
      "\n",
      "    accuracy                           0.94       299\n",
      "   macro avg       0.94      0.94      0.94       299\n",
      "weighted avg       0.94      0.94      0.94       299\n",
      "\n"
     ]
    }
   ],
   "source": [
    "import nltk\n",
    "import re\n",
    "import numpy as np\n",
    "from nltk.corpus import stopwords\n",
    "from nltk.stem import PorterStemmer\n",
    "from sklearn.model_selection import train_test_split\n",
    "from tensorflow.keras.preprocessing.text import Tokenizer\n",
    "from tensorflow.keras.preprocessing.sequence import pad_sequences\n",
    "from tensorflow.keras.models import Sequential\n",
    "from tensorflow.keras.layers import Embedding, Bidirectional, LSTM, Dense, Dropout\n",
    "from tensorflow.keras.callbacks import EarlyStopping\n",
    "import pandas as pd\n",
    "from sklearn.metrics import confusion_matrix, accuracy_score, classification_report\n",
    "\n",
    "# Initialize the PorterStemmer\n",
    "ps = PorterStemmer()\n",
    "corpus = []\n",
    "messages = data  # Assuming 'data' is your DataFrame\n",
    "\n",
    "# Cleaning the text\n",
    "for i in range(0, len(messages)):\n",
    "    # Remove non-alphabetic characters and convert to lowercase\n",
    "    review = re.sub('[^a-zA-Z]', ' ', messages['message'][i])\n",
    "    review = review.lower()\n",
    "    \n",
    "    # Split the sentence into words\n",
    "    review = review.split()\n",
    "    \n",
    "    # Stem each word and remove stopwords\n",
    "    review = [ps.stem(word) for word in review if word not in set(stopwords.words('english'))]\n",
    "    \n",
    "    # Append the cleaned sentence to the corpus\n",
    "    corpus.append(' '.join(review))\n",
    "\n",
    "# Tokenization and word embedding preparation\n",
    "# Step 1: Initialize the Tokenizer\n",
    "tokenizer = Tokenizer()  # Tokenizer will convert words to integer indices\n",
    "\n",
    "# Step 2: Fit the tokenizer on the corpus\n",
    "tokenizer.fit_on_texts(corpus)  # Create the vocabulary based on the corpus\n",
    "\n",
    "# Step 3: Convert texts to sequences of integers\n",
    "X = tokenizer.texts_to_sequences(corpus)  # Each sentence is converted to a list of integers\n",
    "\n",
    "# Step 4: Padding sequences to ensure uniform input length\n",
    "max_len = max(len(seq) for seq in X)  # Determine the maximum sequence length\n",
    "X = pad_sequences(X, maxlen=max_len, padding='post')  # Pad sequences with zeros at the end\n",
    "\n",
    "# Assuming 'messages' has a 'label' column for classification\n",
    "y = pd.get_dummies(messages['label'], drop_first=True).values  # Convert labels to dummy variables\n",
    "\n",
    "# Splitting the dataset into training and testing sets\n",
    "X_train, X_test, y_train, y_test = train_test_split(X, y, test_size=0.2, random_state=0)\n",
    "\n",
    "# Building the biLSTM model\n",
    "model = Sequential()\n",
    "\n",
    "# Step 5: Add Embedding layer\n",
    "# The Embedding layer turns positive integers (indexes) into dense vectors of fixed size\n",
    "model.add(Embedding(input_dim=len(tokenizer.word_index) + 1,  # Size of the vocabulary\n",
    "                    output_dim=100,  # Size of the word vectors\n",
    "                    input_length=max_len))  # Length of input sequences\n",
    "\n",
    "# Step 6: Add Bidirectional LSTM layers with Dropout for regularization\n",
    "model.add(Bidirectional(LSTM(units=128, return_sequences=True)))  # First Bidirectional LSTM layer with output sequences\n",
    "model.add(Dropout(0.2))  # Dropout to prevent overfitting\n",
    "model.add(Bidirectional(LSTM(units=128)))  # Second Bidirectional LSTM layer\n",
    "model.add(Dropout(0.2))  # Another Dropout layer\n",
    "\n",
    "# Step 7: Add output layer for binary classification\n",
    "model.add(Dense(units=1, activation='sigmoid'))  # Sigmoid for binary classification\n",
    "\n",
    "# Step 8: Compile the model\n",
    "model.compile(optimizer='adam', loss='binary_crossentropy', metrics=['accuracy'])\n",
    "\n",
    "# Step 9: Define EarlyStopping callback\n",
    "early_stopping = EarlyStopping(monitor='val_loss', patience=3, restore_best_weights=True)\n",
    "\n",
    "# Step 10: Train the model with early stopping\n",
    "model.fit(X_train, y_train, epochs=10, batch_size=64, validation_split=0.2, callbacks=[early_stopping])\n",
    "\n",
    "# Step 11: Predicting the labels for the test set\n",
    "y_pred = (model.predict(X_test) > 0.5).astype(\"int32\")  # Convert probabilities to binary predictions\n",
    "\n",
    "# Evaluation\n",
    "confusion_m = confusion_matrix(y_test, y_pred)  # Confusion matrix\n",
    "accuracy = accuracy_score(y_test, y_pred)  # Accuracy score\n",
    "\n",
    "# Display the confusion matrix and accuracy\n",
    "print(confusion_m)\n",
    "print(f\"Accuracy: {accuracy * 100:.2f}%\")\n",
    "print(classification_report(y_test, y_pred))  # Detailed classification report\n"
   ]
  },
  {
   "cell_type": "markdown",
   "metadata": {},
   "source": [
    "# BERT+Tensortflow"
   ]
  },
  {
   "cell_type": "code",
   "execution_count": 91,
   "metadata": {
    "tags": []
   },
   "outputs": [
    {
     "name": "stderr",
     "output_type": "stream",
     "text": [
      "All PyTorch model weights were used when initializing TFBertForSequenceClassification.\n",
      "\n",
      "Some weights or buffers of the TF 2.0 model TFBertForSequenceClassification were not initialized from the PyTorch model and are newly initialized: ['classifier.weight', 'classifier.bias']\n",
      "You should probably TRAIN this model on a down-stream task to be able to use it for predictions and inference.\n"
     ]
    },
    {
     "name": "stdout",
     "output_type": "stream",
     "text": [
      "Epoch 1/3\n",
      "60/60 [==============================] - 128s 2s/step - loss: 0.5673 - accuracy: 0.7626 - val_loss: 0.3260 - val_accuracy: 0.9414\n",
      "Epoch 2/3\n",
      "60/60 [==============================] - 111s 2s/step - loss: 0.1576 - accuracy: 0.9571 - val_loss: 0.2017 - val_accuracy: 0.9582\n",
      "Epoch 3/3\n",
      "60/60 [==============================] - 111s 2s/step - loss: 0.1404 - accuracy: 0.9686 - val_loss: 0.2341 - val_accuracy: 0.9707\n",
      "10/10 [==============================] - 9s 824ms/step\n",
      "Confusion Matrix:\n",
      "[[141  10]\n",
      " [  4 144]]\n",
      "Accuracy: 95.32%\n",
      "Classification Report:\n",
      "              precision    recall  f1-score   support\n",
      "\n",
      "           0       0.97      0.93      0.95       151\n",
      "           1       0.94      0.97      0.95       148\n",
      "\n",
      "    accuracy                           0.95       299\n",
      "   macro avg       0.95      0.95      0.95       299\n",
      "weighted avg       0.95      0.95      0.95       299\n",
      "\n"
     ]
    }
   ],
   "source": [
    "import re\n",
    "import numpy as np\n",
    "import pandas as pd\n",
    "from sklearn.model_selection import train_test_split\n",
    "from sklearn.metrics import confusion_matrix, accuracy_score, classification_report\n",
    "from transformers import BertTokenizer, TFBertForSequenceClassification\n",
    "from tensorflow.keras.optimizers import Adam\n",
    "from tensorflow.keras.callbacks import EarlyStopping\n",
    "import tensorflow as tf\n",
    "\n",
    "# Step 1: Preprocess the text\n",
    "def preprocess_text(text):\n",
    "    # Clean the text: keep only letters, convert to lowercase, and strip extra spaces\n",
    "    cleaned_text = re.sub('[^a-zA-Z]', ' ', text).lower().strip()\n",
    "    return cleaned_text\n",
    "\n",
    "# Apply preprocessing to the text column\n",
    "data['message'] = data['message'].apply(preprocess_text)\n",
    "\n",
    "# Step 2: Initialize the BERT tokenizer\n",
    "#The BertTokenizer is used to convert text data into a format that the BERT model can understand\n",
    "tokenizer = BertTokenizer.from_pretrained('bert-base-uncased')\n",
    "\n",
    "# Step 3: Tokenize the text\n",
    "def tokenize_texts(texts, tokenizer, max_len=128):\n",
    "    # Tokenize and encode the texts, making them ready for BERT\n",
    "    encoded_data = tokenizer(\n",
    "        texts.tolist(),  #Converts the text data into a list.\n",
    "        max_length=max_len, #Ensures that all tokenized sequences have the same length by padding \n",
    "        padding='max_length', #Adds padding to make all sequences the same length.\n",
    "        return_tensors='tf',  #Returns the data in TensorFlow tensor format.\n",
    "        truncation=True  #remove white space\n",
    "    )\n",
    "    return encoded_data['input_ids'].numpy(), encoded_data['attention_mask'].numpy()\n",
    "\n",
    "# Tokenize the messages\n",
    "#This converts the text data into input_ids (the actual token IDs) \n",
    "#attention_masks (which indicate which tokens should be attended to by the model).\n",
    "input_ids, attention_masks = tokenize_texts(data['message'], tokenizer)\n",
    "\n",
    "# Step 4: Prepare the labels\n",
    "labels = pd.get_dummies(data['label'], drop_first=True).values\n",
    "\n",
    "# Step 5: Split the data into training and test sets\n",
    "X_train_ids, X_test_ids, X_train_masks, X_test_masks, y_train, y_test = train_test_split(\n",
    "    input_ids, attention_masks, labels, test_size=0.2, random_state=0\n",
    ")\n",
    "\n",
    "\n",
    "# Convert the split data back into tensors\n",
    "X_train = {\n",
    "    'input_ids': tf.convert_to_tensor(X_train_ids), \n",
    "    'attention_mask': tf.convert_to_tensor(X_train_masks)\n",
    "}\n",
    "\n",
    "X_test = {\n",
    "    'input_ids': tf.convert_to_tensor(X_test_ids), \n",
    "    'attention_mask': tf.convert_to_tensor(X_test_masks)\n",
    "}\n",
    "\n",
    "# Step 6: Load the pre-trained BERT model for classification\n",
    "#Loads a pre-trained BERT model specifically designed for sequence classification tasks.\n",
    "model = TFBertForSequenceClassification.from_pretrained('bert-base-uncased', num_labels=1)\n",
    "\n",
    "# Step 7: Compile the model with an optimizer and loss function\n",
    "model.compile(\n",
    "    optimizer=Adam(learning_rate=2e-5), #Uses the Adam optimizer with a small learning rate for fine-tuning the model.\n",
    "    loss='binary_crossentropy',  #Uses binary cross-entropy as the loss function because this is a binary classification problem.\n",
    "    metrics=['accuracy'] #Tracks accuracy during training and evaluation.\n",
    ")\n",
    "\n",
    "# Step 8: Train the model with early stopping\n",
    "history = model.fit(\n",
    "    ##The input data and labels for training.\n",
    "    X_train, y_train, \n",
    "    #The number of times the model will go through the entire training dataset.\n",
    "    epochs=3, \n",
    "    ##The number of samples the model processes before updating its parameters.\n",
    "    batch_size=16, \n",
    "    ##Splits off 20% of the training data for validation (to monitor the model’s performance on unseen data during training).\n",
    "    validation_split=0.2,  \n",
    "    #Stops training if the validation loss doesn't improve for 3 epochs, and restores the best weights.\n",
    "    callbacks=[EarlyStopping(monitor='val_loss', patience=3, restore_best_weights=True)]\n",
    ")\n",
    "\n",
    "# Step 9: Make predictions on the test set\n",
    "#Gets the raw predictions (logits) from the model for the test set.\n",
    "y_pred_logits = model.predict(X_test)['logits']\n",
    "\n",
    "# Convert the logits to binary predictions (0 or 1) using a threshold of 0.5\n",
    "y_pred = (y_pred_logits > 0).astype(\"int32\")\n",
    "\n",
    "# Step 10: Evaluate the results\n",
    "print(\"Confusion Matrix:\")\n",
    "print(confusion_matrix(y_test, y_pred))\n",
    "print(f\"Accuracy: {accuracy_score(y_test, y_pred) * 100:.2f}%\")\n",
    "print(\"Classification Report:\")\n",
    "print(classification_report(y_test, y_pred))\n"
   ]
  },
  {
   "cell_type": "markdown",
   "metadata": {},
   "source": [
    "# BERT model using PyTorch "
   ]
  },
  {
   "cell_type": "code",
   "execution_count": 105,
   "metadata": {
    "tags": []
   },
   "outputs": [
    {
     "name": "stderr",
     "output_type": "stream",
     "text": [
      "Some weights of BertForSequenceClassification were not initialized from the model checkpoint at bert-base-uncased and are newly initialized: ['classifier.bias', 'classifier.weight']\n",
      "You should probably TRAIN this model on a down-stream task to be able to use it for predictions and inference.\n",
      "100%|██████████| 75/75 [01:51<00:00,  1.48s/it]\n"
     ]
    },
    {
     "name": "stdout",
     "output_type": "stream",
     "text": [
      "Epoch 1 - Loss: 0.31490510448813436\n"
     ]
    },
    {
     "name": "stderr",
     "output_type": "stream",
     "text": [
      "100%|██████████| 75/75 [01:47<00:00,  1.44s/it]\n"
     ]
    },
    {
     "name": "stdout",
     "output_type": "stream",
     "text": [
      "Epoch 2 - Loss: 0.0910369474440813\n"
     ]
    },
    {
     "name": "stderr",
     "output_type": "stream",
     "text": [
      "100%|██████████| 75/75 [01:51<00:00,  1.49s/it]\n"
     ]
    },
    {
     "name": "stdout",
     "output_type": "stream",
     "text": [
      "Epoch 3 - Loss: 0.046598543239136536\n",
      "Confusion Matrix:\n",
      "[[146   5]\n",
      " [  4 144]]\n",
      "Accuracy: 96.99%\n",
      "Classification Report:\n",
      "              precision    recall  f1-score   support\n",
      "\n",
      "         0.0       0.97      0.97      0.97       151\n",
      "         1.0       0.97      0.97      0.97       148\n",
      "\n",
      "    accuracy                           0.97       299\n",
      "   macro avg       0.97      0.97      0.97       299\n",
      "weighted avg       0.97      0.97      0.97       299\n",
      "\n"
     ]
    }
   ],
   "source": [
    "import re\n",
    "import numpy as np\n",
    "import pandas as pd\n",
    "from sklearn.model_selection import train_test_split\n",
    "from sklearn.metrics import confusion_matrix, accuracy_score, classification_report\n",
    "from transformers import BertTokenizer, BertForSequenceClassification\n",
    "import torch\n",
    "from torch.utils.data import DataLoader, TensorDataset, random_split\n",
    "from torch.optim import Adam\n",
    "from torch.nn import BCEWithLogitsLoss\n",
    "from tqdm import tqdm\n",
    "\n",
    "# Step 1: Preprocess the text\n",
    "def preprocess_text(text):\n",
    "    # Clean the text: keep only letters, convert to lowercase, and strip extra spaces\n",
    "    cleaned_text = re.sub('[^a-zA-Z]', ' ', text).lower().strip()\n",
    "    return cleaned_text\n",
    "\n",
    "# Apply preprocessing to the text column\n",
    "data['message'] = data['message'].apply(preprocess_text)\n",
    "\n",
    "# Step 2: Initialize the BERT tokenizer\n",
    "tokenizer = BertTokenizer.from_pretrained('bert-base-uncased')\n",
    "\n",
    "# Step 3: Tokenize the text\n",
    "def tokenize_texts(texts, tokenizer, max_len=128):\n",
    "    # Tokenize and encode the texts\n",
    "    encoded_data = tokenizer(\n",
    "        texts.tolist(),\n",
    "        max_length=max_len,\n",
    "        padding='max_length',\n",
    "        return_tensors='pt',  # Returns the data in PyTorch tensor format\n",
    "        truncation=True\n",
    "    )\n",
    "    return encoded_data['input_ids'], encoded_data['attention_mask']\n",
    "\n",
    "# Tokenize the messages\n",
    "input_ids, attention_masks = tokenize_texts(data['message'], tokenizer)\n",
    "\n",
    "# Step 4: Prepare the labels\n",
    "#The labels are converted into one-hot encoded format using pd.get_dummies\n",
    "#and then converted into PyTorch tensors of type float32.\n",
    "labels = torch.tensor(pd.get_dummies(data['label'], drop_first=True).values, dtype=torch.float32)\n",
    "\n",
    "# Step 5: Split the data into training and test sets\n",
    "X_train_ids, X_test_ids, X_train_masks, X_test_masks, y_train, y_test = train_test_split(\n",
    "    input_ids, attention_masks, labels, test_size=0.2, random_state=0\n",
    ")\n",
    "\n",
    "\n",
    "# Combine the input_ids and attention_mask for training and test sets\n",
    "train_dataset = TensorDataset(X_train_ids, X_train_masks, y_train)\n",
    "test_dataset = TensorDataset(X_test_ids, X_test_masks, y_test)\n",
    "\n",
    "# Step 6: Load the pre-trained BERT model for classification\n",
    "model = BertForSequenceClassification.from_pretrained('bert-base-uncased', num_labels=1)\n",
    "\n",
    "# Step 7: Set up the optimizer and loss function\n",
    "optimizer = Adam(model.parameters(), lr=2e-5)\n",
    "#The BCEWithLogitsLoss is used, which combines a sigmoid layer and binary cross-entropy loss.\n",
    "loss_fn = BCEWithLogitsLoss() \n",
    "\n",
    "#step 8\n",
    "# Create a DataLoader to handle the training dataset in batches\n",
    "train_dataloader = DataLoader(train_dataset, batch_size=16, shuffle=True)\n",
    "# Set the model to training mode\n",
    "model.train()\n",
    "\n",
    "# Training loop for a specified number of epochs\n",
    "for epoch in range(3):  # Number of epochs\n",
    "    epoch_loss = 0.0  # Initialize the loss for the current epoch\n",
    "    \n",
    "    # Iterate over each batch in the training DataLoader\n",
    "    for batch in tqdm(train_dataloader):\n",
    "        optimizer.zero_grad()  # Clear the gradients of all optimized variables\n",
    "        \n",
    "        # Unpack the batch into input_ids, attention_masks, and labels\n",
    "        input_ids, attention_masks, labels = batch\n",
    "        \n",
    "        # Forward pass: compute the model's output for the inputs\n",
    "        outputs = model(input_ids, attention_mask=attention_masks)\n",
    "        \n",
    "        # Compute the loss between the model's predictions and the true labels\n",
    "        loss = loss_fn(outputs.logits.squeeze(), labels.squeeze())\n",
    "        \n",
    "        # Backward pass: compute the gradients of the loss with respect to model parameters\n",
    "        loss.backward()\n",
    "        \n",
    "        # Update the model's parameters using the computed gradients\n",
    "        optimizer.step()\n",
    "        \n",
    "        # Accumulate the loss for the current epoch\n",
    "        epoch_loss += loss.item()\n",
    "    \n",
    "    # Compute the average loss for the current epoch\n",
    "    avg_loss = epoch_loss / len(train_dataloader)\n",
    "    \n",
    "    # Print the average loss for the current epoch\n",
    "    print(f\"Epoch {epoch+1} - Loss: {avg_loss}\")\n",
    "\n",
    "# Step 9: Make predictions on the test set\n",
    "\n",
    "# Set the model to evaluation mode\n",
    "model.eval()\n",
    "\n",
    "# Create a DataLoader for the test dataset with a batch size of 16\n",
    "# The shuffle=False argument ensures that the data is not shuffled, preserving the order\n",
    "test_dataloader = DataLoader(test_dataset, batch_size=16, shuffle=False)\n",
    "\n",
    "# Initialize an empty list to store all predictions\n",
    "all_preds = []\n",
    "\n",
    "# Disable gradient calculations since we're only making predictions\n",
    "with torch.no_grad():\n",
    "    # Iterate over each batch in the test DataLoader\n",
    "    for batch in test_dataloader:\n",
    "        # Unpack the batch into input_ids and attention_masks\n",
    "        # The third element (labels) is ignored since it's not needed for predictions\n",
    "        input_ids, attention_masks, _ = batch\n",
    "        \n",
    "        # Perform a forward pass through the model to get the outputs\n",
    "        outputs = model(input_ids, attention_mask=attention_masks)\n",
    "        \n",
    "        # Apply the sigmoid function to the logits to convert them to probabilities\n",
    "        preds = torch.sigmoid(outputs.logits).squeeze().cpu().numpy()\n",
    "        \n",
    "        # Extend the list of all predictions with the current batch's predictions\n",
    "        all_preds.extend(preds)\n",
    "\n",
    "# Convert predictions to binary (0 or 1)\n",
    "y_pred = (np.array(all_preds) > 0.5).astype(\"int32\")\n",
    "\n",
    "# Step 10: Evaluate the results\n",
    "print(\"Confusion Matrix:\")\n",
    "print(confusion_matrix(y_test.numpy(), y_pred))\n",
    "print(f\"Accuracy: {accuracy_score(y_test.numpy(), y_pred) * 100:.2f}%\")\n",
    "print(\"Classification Report:\")\n",
    "print(classification_report(y_test.numpy(), y_pred))"
   ]
  },
  {
   "cell_type": "markdown",
   "metadata": {},
   "source": [
    "## Explanation\n",
    "\n",
    "### DataLoader\n",
    "\n",
    "`train_dataloader = DataLoader(train_dataset, batch_size=16, shuffle=True)`: This line creates a `DataLoader` to efficiently handle the training dataset in batches of size 16. The `shuffle=True` argument ensures that the data is shuffled before each epoch, helping the model generalize better.\n",
    "\n",
    "### Model in Training Mode\n",
    "\n",
    "`model.train()`: This sets the model to training mode, which is necessary for certain layers like dropout and batch normalization to behave differently during training.\n",
    "\n",
    "### Training Loop\n",
    "\n",
    "`for epoch in range(3)`: This loop runs for a specified number of epochs (in this case, 3). An epoch represents one full pass through the entire training dataset.\n",
    "\n",
    "`epoch_loss = 0.0`: Initializes a variable to accumulate the loss for the current epoch.\n",
    "\n",
    "### Batch Processing\n",
    "\n",
    "`for batch in tqdm(train_dataloader)`: This loop iterates over each batch of data in the `train_dataloader`. The `tqdm` function provides a progress bar to monitor the loop's progress.\n",
    "\n",
    "`optimizer.zero_grad()`: Clears the gradients from the previous step to prevent accumulation.\n",
    "\n",
    "`input_ids, attention_masks, labels = batch`: Unpacks the batch into `input_ids`, `attention_masks`, and `labels`.\n",
    "\n",
    "`outputs = model(input_ids, attention_mask=attention_masks)`: Performs a forward pass through the model to obtain the outputs.\n",
    "\n",
    "### Loss Calculation\n",
    "\n",
    "`loss = loss_fn(outputs.logits.squeeze(), labels.squeeze())`: Computes the loss between the model's predictions and the true labels using a predefined loss function.\n",
    "\n",
    "### Backward Pass and Optimization\n",
    "\n",
    "`loss.backward()`: Computes the gradients of the loss with respect to the model's parameters.\n",
    "\n",
    "`optimizer.step()`: Updates the model's parameters based on the computed gradients.\n",
    "\n",
    "### Loss Accumulation\n",
    "\n",
    "`epoch_loss += loss.item()`: Accumulates the loss for the current epoch to calculate the average loss later.\n",
    "\n",
    "### Average Loss Calculation and Display\n",
    "\n",
    "`avg_loss = epoch_loss / len(train_dataloader)`: Calculates the average loss for the current epoch by dividing the accumulated loss by the number of batches.\n",
    "\n",
    "`print(f\"Epoch {epoch+1} - Loss: {avg_loss}\")`: Prints the average loss for the current epoch.\n",
    "\n",
    "This code trains a model for 3 epochs on a given dataset, calculating and printing the average loss at the end of each epoch. Notably, this training process does not include early stopping, meaning the model will complete all epochs regardless of the loss trends.\n"
   ]
  },
  {
   "cell_type": "markdown",
   "metadata": {},
   "source": [
    "## Explanation\n",
    "\n",
    "### Set Model to Evaluation Mode\n",
    "\n",
    "`model.eval()`: This switches the model to evaluation mode. In this mode, layers like dropout and batch normalization behave differently, as they are adjusted to work appropriately for inference rather than training.\n",
    "\n",
    "### Create DataLoader for Test Set\n",
    "\n",
    "`test_dataloader = DataLoader(test_dataset, batch_size=16, shuffle=False)`: This creates a `DataLoader` to handle the test dataset in batches of size 16. The `shuffle=False` argument ensures that the test data is processed in its original order, which is important if you need to maintain the sequence of predictions.\n",
    "\n",
    "### Disable Gradient Calculations\n",
    "\n",
    "`with torch.no_grad()`: This context manager disables gradient calculations, reducing memory usage and speeding up computations since gradients are not needed when making predictions.\n",
    "\n",
    "### Batch Processing\n",
    "\n",
    "`for batch in test_dataloader`: This loop iterates over each batch in the `test_dataloader`.\n",
    "\n",
    "`input_ids, attention_masks, _ = batch`: Unpacks the batch into `input_ids` and `attention_masks`. The third element (usually labels) is ignored with `_` because it's not needed for prediction.\n",
    "\n",
    "### Model Inference\n",
    "\n",
    "`outputs = model(input_ids, attention_mask=attention_masks)`: The model processes the `input_ids` and `attention_masks` through a forward pass, producing raw output scores (logits).\n",
    "\n",
    "### Convert Logits to Probabilities\n",
    "\n",
    "`preds = torch.sigmoid(outputs.logits).squeeze().cpu().numpy()`: The logits (raw scores) are passed through the sigmoid function, which converts them to probabilities. The `.squeeze()` function removes any extra dimensions, and `.cpu().numpy()` moves the tensor from the GPU to the CPU and converts it to a NumPy array.\n",
    "\n",
    "### Store Predictions\n",
    "\n",
    "`all_preds.extend(preds)`: The predictions from the current batch are added to the `all_preds` list, which stores all predictions across all batches.\n",
    "\n",
    "This code is designed to make predictions on the test set, converting the model's raw output logits into probabilities and storing those predictions for further analysis or evaluation.\n"
   ]
  },
  {
   "cell_type": "code",
   "execution_count": null,
   "metadata": {},
   "outputs": [],
   "source": []
  }
 ],
 "metadata": {
  "kernelspec": {
   "display_name": "Python 3 (ipykernel)",
   "language": "python",
   "name": "python3"
  },
  "language_info": {
   "codemirror_mode": {
    "name": "ipython",
    "version": 3
   },
   "file_extension": ".py",
   "mimetype": "text/x-python",
   "name": "python",
   "nbconvert_exporter": "python",
   "pygments_lexer": "ipython3",
   "version": "3.8.0"
  }
 },
 "nbformat": 4,
 "nbformat_minor": 4
}
